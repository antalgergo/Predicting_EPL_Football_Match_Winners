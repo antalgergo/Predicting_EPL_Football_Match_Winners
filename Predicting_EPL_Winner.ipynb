{
 "cells": [
  {
   "cell_type": "markdown",
   "id": "a2e15191-4adb-408b-9d1d-3540d97931f8",
   "metadata": {},
   "source": [
    "# Portfolio Project: Predicting EPL Football Match Winners Using Machine Learning"
   ]
  },
  {
   "cell_type": "code",
   "execution_count": null,
   "id": "08097f41-c731-4a18-acec-7c107c223caf",
   "metadata": {},
   "outputs": [],
   "source": []
  }
 ],
 "metadata": {
  "kernelspec": {
   "display_name": "Portfolio Project - Predicting EPL Football Match Winners",
   "language": "python",
   "name": "predicting_epl_winner"
  },
  "language_info": {
   "codemirror_mode": {
    "name": "ipython",
    "version": 3
   },
   "file_extension": ".py",
   "mimetype": "text/x-python",
   "name": "python",
   "nbconvert_exporter": "python",
   "pygments_lexer": "ipython3",
   "version": "3.12.3"
  }
 },
 "nbformat": 4,
 "nbformat_minor": 5
}
